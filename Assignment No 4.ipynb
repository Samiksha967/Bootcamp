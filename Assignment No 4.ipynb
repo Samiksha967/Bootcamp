{
 "cells": [
  {
   "cell_type": "code",
   "execution_count": null,
   "metadata": {},
   "outputs": [],
   "source": [
    "# first install cv2 library\n",
    "import cv2\n",
    "print(cv2.__version__)"
   ]
  },
  {
   "cell_type": "code",
   "execution_count": 23,
   "metadata": {},
   "outputs": [],
   "source": [
    "# Loading and dislaying an Image\n",
    "img = cv2.imread(\"C:/Users/samik/Pictures/Saved Pictures/shine_dream_smile.jpg\") #load image\n",
    "cv2.imshow('Image', img) #display image\n",
    "cv2.waitKey(0) #wait for a key pres to close\n",
    "cv2.destroyAllWindows()"
   ]
  },
  {
   "cell_type": "code",
   "execution_count": null,
   "metadata": {},
   "outputs": [],
   "source": [
    "# basic image operations\n",
    "img.shape"
   ]
  },
  {
   "cell_type": "code",
   "execution_count": 25,
   "metadata": {},
   "outputs": [],
   "source": [
    "# basic image operations\n",
    "# resizing image\n",
    "resized_img = cv2.resize(img, (500,500))\n",
    "cv2.imshow('resized Image', resized_img)\n",
    "cv2.waitKey(0) #Wait for a key press to close\n",
    "cv2.destroyAllWindows() \n"
   ]
  },
  {
   "cell_type": "code",
   "execution_count": 26,
   "metadata": {},
   "outputs": [],
   "source": [
    "\n",
    "# Convert image to grayscale\n",
    "gray_img = cv2.cvtColor(resized_img, cv2.COLOR_BGR2GRAY)\n",
    "cv2.imshow('Gray Image', gray_img)\n",
    "cv2.waitKey(0)\n",
    "cv2.destroyAllWindows()"
   ]
  },
  {
   "cell_type": "code",
   "execution_count": null,
   "metadata": {},
   "outputs": [],
   "source": [
    "gray_img.shape"
   ]
  },
  {
   "cell_type": "code",
   "execution_count": 28,
   "metadata": {},
   "outputs": [],
   "source": [
    "# 4. basic image transformation\n",
    "# cropping an image\n",
    "cropped_img = resized_img[100:200, 100:400]\n",
    "cv2.imshow('Cropped Image', cropped_img)\n",
    "cv2.waitKey(0)\n",
    "cv2.destroyAllWindows()"
   ]
  },
  {
   "cell_type": "code",
   "execution_count": 29,
   "metadata": {},
   "outputs": [],
   "source": [
    "# rotating an image\n",
    "(h,w) = resized_img.shape[:2]\n",
    "center = (w // 2, h // 2)\n",
    "M = cv2.getRotationMatrix2D(center, 45, 1.0)\n",
    "rotated_img = cv2.warpAffine(resized_img, M, (w,h))\n",
    "cv2.imshow('Rotated Image', rotated_img)\n",
    "cv2.waitKey(0)\n",
    "cv2.destroyAllWindows()"
   ]
  },
  {
   "cell_type": "code",
   "execution_count": 30,
   "metadata": {},
   "outputs": [],
   "source": [
    "# 5. image blurring techniques\n",
    "# gaussian blurring\n",
    "blurred_img = cv2.GaussianBlur(resized_img, (5,5), 0)\n",
    "cv2.imshow('Gaussian Blrred Image' , blurred_img)\n",
    "cv2.waitKey(0)\n",
    "cv2.destroyAllWindows()\n"
   ]
  },
  {
   "cell_type": "code",
   "execution_count": 31,
   "metadata": {},
   "outputs": [],
   "source": [
    "# medain blurring\n",
    "median_blurred_img = cv2.medianBlur(resized_img, 5)\n",
    "cv2.imshow('Median Blrred Image' , median_blurred_img)\n",
    "cv2.waitKey(0)\n",
    "cv2.destroyAllWindows()\n"
   ]
  },
  {
   "cell_type": "code",
   "execution_count": 32,
   "metadata": {},
   "outputs": [],
   "source": [
    "# bilateral blurring\n",
    "bilateral_blurred_img = cv2.bilateralFilter(resized_img, 9, 75, 75)\n",
    "cv2.imshow('Bilateral Blrred Image' , bilateral_blurred_img)\n",
    "cv2.waitKey(0)\n",
    "cv2.destroyAllWindows()"
   ]
  },
  {
   "cell_type": "code",
   "execution_count": 33,
   "metadata": {},
   "outputs": [],
   "source": [
    "# average image blurring\n",
    "average_blurred_img = cv2.blur(resized_img, (5,5))\n",
    "cv2.imshow('Average Blurred Image', average_blurred_img)\n",
    "cv2.waitKey(0)\n",
    "cv2.destroyAllWindows()"
   ]
  },
  {
   "cell_type": "code",
   "execution_count": 34,
   "metadata": {},
   "outputs": [],
   "source": [
    "# 6. Image thresholding Techniques\n",
    "# binary tresholding\n",
    "_, thresh_img = cv2.threshold(gray_img, 127, 255, cv2.THRESH_BINARY)\n",
    "cv2.imshow('Threshold image', thresh_img)\n",
    "cv2.waitKey(0)\n",
    "cv2.destroyAllWindows()"
   ]
  },
  {
   "cell_type": "code",
   "execution_count": 35,
   "metadata": {},
   "outputs": [],
   "source": [
    "# inverse Binary Thresholding\n",
    "_, thresh_img = cv2.threshold(gray_img, 127, 255, cv2.THRESH_BINARY_INV)\n",
    "cv2.imshow('Threshold image', thresh_img)\n",
    "cv2.waitKey(0)\n",
    "cv2.destroyAllWindows()\n"
   ]
  },
  {
   "cell_type": "code",
   "execution_count": 36,
   "metadata": {},
   "outputs": [],
   "source": [
    "# truncated tresholding\n",
    "_, thresh_img = cv2.threshold(gray_img, 127, 255, cv2.THRESH_TRUNC)\n",
    "cv2.imshow('Threshold image', thresh_img)\n",
    "cv2.waitKey(0)\n",
    "cv2.destroyAllWindows()"
   ]
  },
  {
   "cell_type": "code",
   "execution_count": 37,
   "metadata": {},
   "outputs": [],
   "source": [
    "# zero thresholding\n",
    "_, thresh_img = cv2.threshold(gray_img, 127, 255, cv2.THRESH_TOZERO)\n",
    "cv2.imshow('Threshold image', thresh_img)\n",
    "cv2.waitKey(0)\n",
    "cv2.destroyAllWindows()"
   ]
  },
  {
   "cell_type": "code",
   "execution_count": 38,
   "metadata": {},
   "outputs": [],
   "source": [
    "# zero inverse thresholding\n",
    "_, thresh_img = cv2.threshold(gray_img, 127, 255, cv2.THRESH_TOZERO_INV)\n",
    "cv2.imshow('Threshold image', thresh_img)\n",
    "cv2.waitKey(0)\n",
    "cv2.destroyAllWindows()"
   ]
  },
  {
   "cell_type": "code",
   "execution_count": 39,
   "metadata": {},
   "outputs": [],
   "source": [
    "# adaptive thresholding\n",
    "adaptive_thresh_img = cv2.adaptiveThreshold(gray_img, 225, cv2.ADAPTIVE_THRESH_GAUSSIAN_C , cv2.THRESH_BINARY, 11, 2)\n",
    "cv2.imshow('adsptive thresholding image', adaptive_thresh_img)\n",
    "cv2.waitKey(0)\n",
    "cv2.destroyAllWindows()"
   ]
  },
  {
   "cell_type": "code",
   "execution_count": 40,
   "metadata": {},
   "outputs": [],
   "source": [
    "# 7 edge detection\n",
    "# canny edge detection\n",
    "edges = cv2.Canny(resized_img, 100, 255)\n",
    "cv2.imshow('Canny Edges', edges)\n",
    "cv2.waitKey(0)\n",
    "cv2.destroyAllWindows()"
   ]
  }
 ],
 "metadata": {
  "kernelspec": {
   "display_name": "Python 3",
   "language": "python",
   "name": "python3"
  },
  "language_info": {
   "codemirror_mode": {
    "name": "ipython",
    "version": 3
   },
   "file_extension": ".py",
   "mimetype": "text/x-python",
   "name": "python",
   "nbconvert_exporter": "python",
   "pygments_lexer": "ipython3",
   "version": "3.12.2"
  }
 },
 "nbformat": 4,
 "nbformat_minor": 2
}
