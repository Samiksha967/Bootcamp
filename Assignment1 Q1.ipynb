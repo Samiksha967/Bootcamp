{
 "cells": [
  {
   "cell_type": "code",
   "execution_count": 7,
   "metadata": {},
   "outputs": [],
   "source": [
    "#1. Handle the missing data by replacing missing MathScore and EnglishScore with the mean \n",
    "#of the respective columns. \n",
    "# Question NO 1\n",
    "\n",
    "import pandas as pd\n",
    "\n",
    "# Load the dataset\n",
    "students_df = pd.read_csv('students.csv')\n"
   ]
  },
  {
   "cell_type": "code",
   "execution_count": 8,
   "metadata": {},
   "outputs": [
    {
     "name": "stderr",
     "output_type": "stream",
     "text": [
      "C:\\Users\\samik\\AppData\\Local\\Temp\\ipykernel_16624\\1511118212.py:2: FutureWarning: A value is trying to be set on a copy of a DataFrame or Series through chained assignment using an inplace method.\n",
      "The behavior will change in pandas 3.0. This inplace method will never work because the intermediate object on which we are setting values always behaves as a copy.\n",
      "\n",
      "For example, when doing 'df[col].method(value, inplace=True)', try using 'df.method({col: value}, inplace=True)' or df[col] = df[col].method(value) instead, to perform the operation inplace on the original object.\n",
      "\n",
      "\n",
      "  students_df['MathScore'].fillna(students_df['MathScore'].mean(), inplace=True)\n",
      "C:\\Users\\samik\\AppData\\Local\\Temp\\ipykernel_16624\\1511118212.py:3: FutureWarning: A value is trying to be set on a copy of a DataFrame or Series through chained assignment using an inplace method.\n",
      "The behavior will change in pandas 3.0. This inplace method will never work because the intermediate object on which we are setting values always behaves as a copy.\n",
      "\n",
      "For example, when doing 'df[col].method(value, inplace=True)', try using 'df.method({col: value}, inplace=True)' or df[col] = df[col].method(value) instead, to perform the operation inplace on the original object.\n",
      "\n",
      "\n",
      "  students_df['EnglishScore'].fillna(students_df['EnglishScore'].mean(), inplace=True)\n"
     ]
    }
   ],
   "source": [
    "# Replace missing MathScore and EnglishScore with the mean\n",
    "students_df['MathScore'].fillna(students_df['MathScore'].mean(), inplace=True)\n",
    "students_df['EnglishScore'].fillna(students_df['EnglishScore'].mean(), inplace=True)\n"
   ]
  },
  {
   "cell_type": "code",
   "execution_count": 9,
   "metadata": {},
   "outputs": [],
   "source": [
    "#2. Encode the Gender column using label encoding (0 for female, 1 for male). \n",
    "#  Label encoding for Gender (0 for female, 1 for male)\n",
    "students_df['Gender'] = students_df['Gender'].map({'female': 0, 'male': 1})\n"
   ]
  },
  {
   "cell_type": "code",
   "execution_count": 10,
   "metadata": {},
   "outputs": [],
   "source": [
    "#3. Correct the TotalScore column. \n",
    "#  Label encoding for Gender (0 for female, 1 for male)\n",
    "students_df['Gender'] = students_df['Gender'].map({'female': 0, 'male': 1})\n"
   ]
  },
  {
   "cell_type": "code",
   "execution_count": 11,
   "metadata": {},
   "outputs": [],
   "source": [
    "# Correct TotalScore\n",
    "students_df['TotalScore'] = students_df['MathScore'] + students_df['EnglishScore']\n"
   ]
  },
  {
   "cell_type": "code",
   "execution_count": 13,
   "metadata": {},
   "outputs": [],
   "source": [
    "# Standardize the MathScore, EnglishScore, and TotalScore columns using z-score \n",
    "#normalization. \n",
    "from sklearn.preprocessing import StandardScaler\n",
    "\n",
    "# Standardize MathScore, EnglishScore, and TotalScore\n",
    "scaler = StandardScaler()\n",
    "students_df[['MathScore', 'EnglishScore', 'TotalScore']] = scaler.fit_transform(\n",
    "    students_df[['MathScore', 'EnglishScore', 'TotalScore']]\n",
    ")"
   ]
  }
 ],
 "metadata": {
  "kernelspec": {
   "display_name": "Python 3",
   "language": "python",
   "name": "python3"
  },
  "language_info": {
   "codemirror_mode": {
    "name": "ipython",
    "version": 3
   },
   "file_extension": ".py",
   "mimetype": "text/x-python",
   "name": "python",
   "nbconvert_exporter": "python",
   "pygments_lexer": "ipython3",
   "version": "3.12.2"
  }
 },
 "nbformat": 4,
 "nbformat_minor": 2
}
