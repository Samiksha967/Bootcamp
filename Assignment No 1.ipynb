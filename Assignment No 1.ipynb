{
 "cells": [
  {
   "cell_type": "code",
   "execution_count": null,
   "metadata": {},
   "outputs": [],
   "source": [
    "#Lab Assignment 1: Data Cleaning, Encoding, and Scaling "
   ]
  },
  {
   "cell_type": "code",
   "execution_count": 13,
   "metadata": {},
   "outputs": [
    {
     "name": "stdout",
     "output_type": "stream",
     "text": [
      "Data before cleaning:\n",
      "   StudentID     Name  Gender  Age  MathScore  EnglishScore  TotalScore\n",
      "0          1    Alice  Female   15       85.0          90.0         175\n",
      "1          2      Bob    Male   16        NaN          95.0          95\n",
      "2          3  Charlie    Male   15       80.0           NaN          80\n",
      "3          4    Diana  Female   16       90.0          85.0         175\n",
      "4          5      Eve  Female   15       75.0          70.0         145\n"
     ]
    }
   ],
   "source": [
    "import pandas as pd\n",
    "import warnings\n",
    "from sklearn.preprocessing import LabelEncoder, StandardScaler\n",
    "\n",
    "# Suppress warnings\n",
    "warnings.filterwarnings(\"ignore\")\n",
    "\n",
    "# Load the dataset\n",
    "df = pd.read_csv('C:/Users/samik/Desktop/viit/bootcamp/Students.csv')\n",
    "\n",
    "# Display the dataset before cleaning\n",
    "print(\"Data before cleaning:\")\n",
    "print(df.head())\n"
   ]
  },
  {
   "cell_type": "code",
   "execution_count": 14,
   "metadata": {},
   "outputs": [
    {
     "name": "stdout",
     "output_type": "stream",
     "text": [
      "\n",
      "Data after handling missing values:\n",
      "   MathScore  EnglishScore\n",
      "0       85.0          90.0\n",
      "1       82.5          95.0\n",
      "2       80.0          85.0\n",
      "3       90.0          85.0\n",
      "4       75.0          70.0\n"
     ]
    }
   ],
   "source": [
    "# 1. Handle missing values by replacing with column mean\n",
    "df['MathScore'].fillna(df['MathScore'].mean(), inplace=True)\n",
    "df['EnglishScore'].fillna(df['EnglishScore'].mean(), inplace=True)\n",
    "\n",
    "# Display the dataset after handling missing values\n",
    "print(\"\\nData after handling missing values:\")\n",
    "print(df[['MathScore', 'EnglishScore']].head())\n"
   ]
  },
  {
   "cell_type": "code",
   "execution_count": 15,
   "metadata": {},
   "outputs": [
    {
     "name": "stdout",
     "output_type": "stream",
     "text": [
      "\n",
      "Data after encoding 'Gender':\n",
      "      Name  Gender\n",
      "0    Alice       0\n",
      "1      Bob       1\n",
      "2  Charlie       1\n",
      "3    Diana       0\n",
      "4      Eve       0\n"
     ]
    }
   ],
   "source": [
    "# 2. Encode the 'Gender' column (0 for female, 1 for male)\n",
    "label_encoder = LabelEncoder()\n",
    "df['Gender'] = label_encoder.fit_transform(df['Gender'])\n",
    "\n",
    "# Display the dataset after encoding Gender\n",
    "print(\"\\nData after encoding 'Gender':\")\n",
    "print(df[['Name', 'Gender']].head())\n"
   ]
  },
  {
   "cell_type": "code",
   "execution_count": 16,
   "metadata": {},
   "outputs": [
    {
     "name": "stdout",
     "output_type": "stream",
     "text": [
      "\n",
      "Data after correcting 'TotalScore':\n",
      "   MathScore  EnglishScore  TotalScore\n",
      "0       85.0          90.0       175.0\n",
      "1       82.5          95.0       177.5\n",
      "2       80.0          85.0       165.0\n",
      "3       90.0          85.0       175.0\n",
      "4       75.0          70.0       145.0\n"
     ]
    }
   ],
   "source": [
    "# 3. Correct the TotalScore column\n",
    "df['TotalScore'] = df['MathScore'] + df['EnglishScore']\n",
    "\n",
    "# Display the dataset after correcting TotalScore\n",
    "print(\"\\nData after correcting 'TotalScore':\")\n",
    "print(df[['MathScore', 'EnglishScore', 'TotalScore']].head())\n"
   ]
  },
  {
   "cell_type": "code",
   "execution_count": 17,
   "metadata": {},
   "outputs": [
    {
     "name": "stdout",
     "output_type": "stream",
     "text": [
      "\n",
      "Data cleaning and preprocessing complete. Cleaned dataset saved.\n"
     ]
    }
   ],
   "source": [
    "# Save the cleaned dataset\n",
    "df.to_csv('C:/Users/samik/Desktop/viit/bootcamp/Students_cleaned.csv', index=False)\n",
    "\n",
    "print(\"\\nData cleaning and preprocessing complete. Cleaned dataset saved.\")\n"
   ]
  },
  {
   "cell_type": "code",
   "execution_count": null,
   "metadata": {},
   "outputs": [],
   "source": [
    "#Lab Assignment 2: Feature Engineering and Outlier Detection  "
   ]
  },
  {
   "cell_type": "code",
   "execution_count": 18,
   "metadata": {},
   "outputs": [
    {
     "name": "stdout",
     "output_type": "stream",
     "text": [
      "Initial dataset:\n",
      "   ProductID ProductCategory  Price  QuantitySold  Revenue\n",
      "0        101     Electronics   1500             5     7500\n",
      "1        102     Electronics   2000             3     6000\n",
      "2        103       Furniture    500            10     5000\n",
      "3        104        Clothing     50           100     5000\n",
      "4        105     Electronics  10000             1    10000\n"
     ]
    }
   ],
   "source": [
    "import pandas as pd\n",
    "\n",
    "# Load the dataset\n",
    "df = pd.read_csv('C:/Users/samik/Desktop/viit/bootcamp/Sales.csv')\n",
    "\n",
    "# Display initial dataset\n",
    "print(\"Initial dataset:\")\n",
    "print(df.head())\n"
   ]
  },
  {
   "cell_type": "code",
   "execution_count": 19,
   "metadata": {},
   "outputs": [
    {
     "name": "stdout",
     "output_type": "stream",
     "text": [
      "\n",
      "Dataset after recalculating 'Revenue':\n",
      "   ProductID  Price  QuantitySold  Revenue\n",
      "0        101   1500             5     7500\n",
      "1        102   2000             3     6000\n",
      "2        103    500            10     5000\n",
      "3        104     50           100     5000\n",
      "4        105  10000             1    10000\n"
     ]
    }
   ],
   "source": [
    "# Recalculate the 'Revenue' column\n",
    "df['Revenue'] = df['Price'] * df['QuantitySold']\n",
    "\n",
    "# Display dataset after recalculating Revenue\n",
    "print(\"\\nDataset after recalculating 'Revenue':\")\n",
    "print(df[['ProductID', 'Price', 'QuantitySold', 'Revenue']].head())\n"
   ]
  },
  {
   "cell_type": "code",
   "execution_count": 20,
   "metadata": {},
   "outputs": [
    {
     "name": "stdout",
     "output_type": "stream",
     "text": [
      "\n",
      "Z-scores for 'Price' column:\n",
      "0    0.199372\n",
      "1    0.046680\n",
      "2    0.504757\n",
      "3    0.642179\n",
      "4    2.396394\n",
      "5    0.651341\n",
      "6    0.352064\n",
      "Name: Price, dtype: float64\n"
     ]
    }
   ],
   "source": [
    "from scipy import stats\n",
    "\n",
    "# Detect outliers in the 'Price' column using Z-score\n",
    "z_scores = stats.zscore(df['Price'])\n",
    "abs_z_scores = abs(z_scores)\n",
    "\n",
    "# Display Z-scores for Price\n",
    "print(\"\\nZ-scores for 'Price' column:\")\n",
    "print(abs_z_scores)\n"
   ]
  },
  {
   "cell_type": "code",
   "execution_count": 21,
   "metadata": {},
   "outputs": [
    {
     "name": "stdout",
     "output_type": "stream",
     "text": [
      "\n",
      "Dataset after removing outliers in 'Price':\n",
      "   ProductID  Price  QuantitySold  Revenue\n",
      "0        101   1500             5     7500\n",
      "1        102   2000             3     6000\n",
      "2        103    500            10     5000\n",
      "3        104     50           100     5000\n",
      "4        105  10000             1    10000\n"
     ]
    }
   ],
   "source": [
    "# Filtering out rows where the absolute Z-score is greater than 3\n",
    "df_cleaned = df[abs_z_scores < 3]\n",
    "\n",
    "# Display dataset after removing outliers\n",
    "print(\"\\nDataset after removing outliers in 'Price':\")\n",
    "print(df_cleaned[['ProductID', 'Price', 'QuantitySold', 'Revenue']].head())\n"
   ]
  },
  {
   "cell_type": "code",
   "execution_count": 22,
   "metadata": {},
   "outputs": [
    {
     "name": "stdout",
     "output_type": "stream",
     "text": [
      "\n",
      "Dataset after Min-Max normalization:\n",
      "   ProductID     Price   Revenue\n",
      "0        101  0.148297  0.583333\n",
      "1        102  0.198397  0.333333\n",
      "2        103  0.048096  0.166667\n",
      "3        104  0.003006  0.166667\n",
      "4        105  1.000000  1.000000\n"
     ]
    }
   ],
   "source": [
    "from sklearn.preprocessing import MinMaxScaler\n",
    "\n",
    "# Normalize the 'Price' and 'Revenue' columns using Min-Max scaling\n",
    "scaler = MinMaxScaler()\n",
    "df_cleaned[['Price', 'Revenue']] = scaler.fit_transform(df_cleaned[['Price', 'Revenue']])\n",
    "\n",
    "# Display dataset after normalization\n",
    "print(\"\\nDataset after Min-Max normalization:\")\n",
    "print(df_cleaned[['ProductID', 'Price', 'Revenue']].head())\n"
   ]
  },
  {
   "cell_type": "code",
   "execution_count": 23,
   "metadata": {},
   "outputs": [
    {
     "name": "stdout",
     "output_type": "stream",
     "text": [
      "\n",
      "Data processing complete. Cleaned dataset saved.\n"
     ]
    }
   ],
   "source": [
    "# Save the cleaned dataset\n",
    "df_cleaned.to_csv('C:/Users/samik/Desktop/viit/bootcamp/Sales_cleaned.csv', index=False)\n",
    "\n",
    "print(\"\\nData processing complete. Cleaned dataset saved.\")\n"
   ]
  }
 ],
 "metadata": {
  "kernelspec": {
   "display_name": "Python 3",
   "language": "python",
   "name": "python3"
  },
  "language_info": {
   "codemirror_mode": {
    "name": "ipython",
    "version": 3
   },
   "file_extension": ".py",
   "mimetype": "text/x-python",
   "name": "python",
   "nbconvert_exporter": "python",
   "pygments_lexer": "ipython3",
   "version": "3.12.2"
  }
 },
 "nbformat": 4,
 "nbformat_minor": 2
}
