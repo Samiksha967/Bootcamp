{
 "cells": [
  {
   "cell_type": "code",
   "execution_count": 3,
   "metadata": {},
   "outputs": [
    {
     "data": {
      "text/html": [
       "<div>\n",
       "<style scoped>\n",
       "    .dataframe tbody tr th:only-of-type {\n",
       "        vertical-align: middle;\n",
       "    }\n",
       "\n",
       "    .dataframe tbody tr th {\n",
       "        vertical-align: top;\n",
       "    }\n",
       "\n",
       "    .dataframe thead th {\n",
       "        text-align: right;\n",
       "    }\n",
       "</style>\n",
       "<table border=\"1\" class=\"dataframe\">\n",
       "  <thead>\n",
       "    <tr style=\"text-align: right;\">\n",
       "      <th></th>\n",
       "      <th>Price</th>\n",
       "      <th>QuantitySold</th>\n",
       "      <th>Revenue</th>\n",
       "    </tr>\n",
       "  </thead>\n",
       "  <tbody>\n",
       "    <tr>\n",
       "      <th>0</th>\n",
       "      <td>10.5</td>\n",
       "      <td>5</td>\n",
       "      <td>52.5</td>\n",
       "    </tr>\n",
       "    <tr>\n",
       "      <th>1</th>\n",
       "      <td>20.3</td>\n",
       "      <td>3</td>\n",
       "      <td>60.9</td>\n",
       "    </tr>\n",
       "    <tr>\n",
       "      <th>2</th>\n",
       "      <td>15.0</td>\n",
       "      <td>8</td>\n",
       "      <td>120.0</td>\n",
       "    </tr>\n",
       "  </tbody>\n",
       "</table>\n",
       "</div>"
      ],
      "text/plain": [
       "   Price  QuantitySold  Revenue\n",
       "0   10.5             5     52.5\n",
       "1   20.3             3     60.9\n",
       "2   15.0             8    120.0"
      ]
     },
     "execution_count": 3,
     "metadata": {},
     "output_type": "execute_result"
    }
   ],
   "source": [
    "#1. Create a new column Revenue by multiplying Price and QuantitySold. \n",
    "# import pandas as pd\n",
    "\n",
    "# Sample DataFrame\n",
    "data = {\n",
    "    'Price': [10.5, 20.3, 15.0],\n",
    "    'QuantitySold': [5, 3, 8]\n",
    "}\n",
    "\n",
    "# Creating DataFrame\n",
    "df = pd.DataFrame(data)\n",
    "\n",
    "# Creating the 'Revenue' column\n",
    "df['Revenue'] = df['Price'] * df['QuantitySold']\n",
    "\n",
    "# Displaying the DataFrame\n",
    "df\n"
   ]
  },
  {
   "cell_type": "code",
   "execution_count": 4,
   "metadata": {},
   "outputs": [],
   "source": [
    "# Load the dataset\n",
    "import pandas as pd\n",
    "sales_df = pd.read_csv('sales.csv')\n"
   ]
  },
  {
   "cell_type": "code",
   "execution_count": 5,
   "metadata": {},
   "outputs": [],
   "source": [
    "# Create a new Revenue column\n",
    "sales_df['Revenue'] = sales_df['Price'] * sales_df['QuantitySold']\n"
   ]
  },
  {
   "cell_type": "code",
   "execution_count": 6,
   "metadata": {},
   "outputs": [
    {
     "name": "stdout",
     "output_type": "stream",
     "text": [
      "   ProductID  Price  QuantitySold\n",
      "0          1     10           100\n",
      "1          2     15           200\n",
      "2          3   1000           300\n",
      "3          4     20           150\n",
      "4          5     25           250\n"
     ]
    }
   ],
   "source": [
    "#2. Detect and remove outliers in the Price column using the Z-score method. \n",
    "# import pandas as pd\n",
    "from scipy import stats\n",
    "\n",
    "# Example DataFrame\n",
    "data = {\n",
    "    'ProductID': [1, 2, 3, 4, 5],\n",
    "    'Price': [10, 15, 1000, 20, 25],  # 1000 is an outlier\n",
    "    'QuantitySold': [100, 200, 300, 150, 250]\n",
    "}\n",
    "sales_df = pd.DataFrame(data)\n",
    "\n",
    "# Calculate Z-scores for the Price column\n",
    "z_scores = stats.zscore(sales_df['Price'])\n",
    "\n",
    "# Remove outliers\n",
    "sales_df = sales_df[(z_scores < 3) & (z_scores > -3)]\n",
    "\n",
    "print(sales_df)\n"
   ]
  },
  {
   "cell_type": "code",
   "execution_count": 7,
   "metadata": {},
   "outputs": [
    {
     "name": "stdout",
     "output_type": "stream",
     "text": [
      "Columns in sales_df: Index(['id', 'Marital status', 'Application mode', 'Application order',\n",
      "       'Course', 'Daytime/evening attendance', 'Previous qualification',\n",
      "       'Previous qualification (grade)', 'Nacionality',\n",
      "       'Mother's qualification', 'Father's qualification',\n",
      "       'Mother's occupation', 'Father's occupation', 'Admission grade',\n",
      "       'Displaced', 'Educational special needs', 'Debtor',\n",
      "       'Tuition fees up to date', 'Gender', 'Scholarship holder',\n",
      "       'Age at enrollment', 'International',\n",
      "       'Curricular units 1st sem (credited)',\n",
      "       'Curricular units 1st sem (enrolled)',\n",
      "       'Curricular units 1st sem (evaluations)',\n",
      "       'Curricular units 1st sem (approved)',\n",
      "       'Curricular units 1st sem (grade)',\n",
      "       'Curricular units 1st sem (without evaluations)',\n",
      "       'Curricular units 2nd sem (credited)',\n",
      "       'Curricular units 2nd sem (enrolled)',\n",
      "       'Curricular units 2nd sem (evaluations)',\n",
      "       'Curricular units 2nd sem (approved)',\n",
      "       'Curricular units 2nd sem (grade)',\n",
      "       'Curricular units 2nd sem (without evaluations)', 'Unemployment rate',\n",
      "       'Inflation rate', 'GDP', 'Target'],\n",
      "      dtype='object')\n",
      "One or both of the columns 'Price' and 'Revenue' do not exist in the DataFrame.\n"
     ]
    }
   ],
   "source": [
    "#3. Normalize the Price and Revenue columns using Min-Max scaling. \n",
    "\n",
    "import pandas as pd\n",
    "from sklearn.preprocessing import MinMaxScaler\n",
    "\n",
    "# Load your data (update the filename as needed)\n",
    "sales_df = pd.read_csv(r'C:\\Users\\samik\\Desktop\\viit\\bootcamp\\train.csv')\n",
    "\n",
    "# Check the column names\n",
    "print(\"Columns in sales_df:\", sales_df.columns)\n",
    "\n",
    "# Min-Max scaling for Price and Revenue (update the names if necessary)\n",
    "scaler = MinMaxScaler()\n",
    "\n",
    "# Ensure both columns exist before applying MinMaxScaler\n",
    "if 'Price' in sales_df.columns and 'Revenue' in sales_df.columns:\n",
    "    sales_df[['Price', 'Revenue']] = scaler.fit_transform(sales_df[['Price', 'Revenue']])\n",
    "else:\n",
    "    print(\"One or both of the columns 'Price' and 'Revenue' do not exist in the DataFrame.\")\n"
   ]
  }
 ],
 "metadata": {
  "kernelspec": {
   "display_name": "Python 3",
   "language": "python",
   "name": "python3"
  },
  "language_info": {
   "codemirror_mode": {
    "name": "ipython",
    "version": 3
   },
   "file_extension": ".py",
   "mimetype": "text/x-python",
   "name": "python",
   "nbconvert_exporter": "python",
   "pygments_lexer": "ipython3",
   "version": "3.12.2"
  }
 },
 "nbformat": 4,
 "nbformat_minor": 2
}
